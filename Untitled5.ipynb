{
  "nbformat": 4,
  "nbformat_minor": 0,
  "metadata": {
    "colab": {
      "provenance": [],
      "authorship_tag": "ABX9TyNG4JlhuCT7L1ULOE9tnwsD",
      "include_colab_link": true
    },
    "kernelspec": {
      "name": "python3",
      "display_name": "Python 3"
    },
    "language_info": {
      "name": "python"
    }
  },
  "cells": [
    {
      "cell_type": "markdown",
      "metadata": {
        "id": "view-in-github",
        "colab_type": "text"
      },
      "source": [
        "<a href=\"https://colab.research.google.com/github/venkatesh867912/venkatesh867912/blob/main/Untitled5.ipynb\" target=\"_parent\"><img src=\"https://colab.research.google.com/assets/colab-badge.svg\" alt=\"Open In Colab\"/></a>"
      ]
    },
    {
      "cell_type": "code",
      "execution_count": null,
      "metadata": {
        "colab": {
          "base_uri": "https://localhost:8080/"
        },
        "id": "siWASkZyJ-yU",
        "outputId": "aa42a768-c9ea-48ad-8758-64d2a7e5171d"
      },
      "outputs": [
        {
          "output_type": "stream",
          "name": "stdout",
          "text": [
            "0\n",
            "1\n",
            "2\n",
            "3\n",
            "4\n"
          ]
        }
      ],
      "source": [
        "a=0\n",
        "for i in range(5):\n",
        "    a=i\n",
        "    print(a)"
      ]
    },
    {
      "cell_type": "code",
      "source": [],
      "metadata": {
        "id": "pNHXU96BKMjZ"
      },
      "execution_count": null,
      "outputs": []
    },
    {
      "cell_type": "code",
      "source": [],
      "metadata": {
        "id": "Pe5N4gAfKOVL"
      },
      "execution_count": null,
      "outputs": []
    },
    {
      "cell_type": "code",
      "source": [
        "A=str(input (\"Enter the operator\"))\n",
        "num1=int(input (\"Enter the first number\"))\n",
        "num2=int(input (\"Enter the second number\"))\n",
        "if (A==\"+\"):\n",
        "    R1= num1+num2\n",
        "    print(R1)\n",
        "elif (A==\"-\"):\n",
        "      R2= num1-num2\n",
        "      print(R2)\n",
        "elif (A==\"-\"):\n",
        "     R3= num1*num2\n",
        "     print(R3)\n",
        "elif (A==\"/\"):\n",
        "     R4= num1/num2\n",
        "     print(R4)"
      ],
      "metadata": {
        "colab": {
          "base_uri": "https://localhost:8080/"
        },
        "id": "IerpSwqeKRH4",
        "outputId": "4376773a-0193-4d51-949f-5178eded7a66"
      },
      "execution_count": 1,
      "outputs": [
        {
          "name": "stdout",
          "output_type": "stream",
          "text": [
            "Enter the operator3\n",
            "Enter the first number4\n",
            "Enter the second number5\n"
          ]
        }
      ]
    },
    {
      "cell_type": "code",
      "source": [
        "# Print each student name\n",
        "students = [\"Alex\", \"Taylor\", \"Jordan\"]\n",
        "for student in students:\n",
        "    print(student)\n",
        "\n",
        "# Calculate total marks\n",
        "marks = [85, 92, 78, 90]\n",
        "total = 0\n",
        "for mark in marks:\n",
        "    total += mark\n",
        "print(\"Total:\", total)"
      ],
      "metadata": {
        "colab": {
          "base_uri": "https://localhost:8080/"
        },
        "id": "Vl8dIZo-KtaR",
        "outputId": "a3c284d0-889b-4f19-e802-abf8bdbb5de2"
      },
      "execution_count": 2,
      "outputs": [
        {
          "output_type": "stream",
          "name": "stdout",
          "text": [
            "Alex\n",
            "Taylor\n",
            "Jordan\n",
            "Total: 345\n"
          ]
        }
      ]
    },
    {
      "cell_type": "code",
      "source": [
        "# Countdown timer\n",
        "count = 5\n",
        "while count > 0:\n",
        "    print(count)\n",
        "    count -= 1\n",
        "print(\"count -=1\")"
      ],
      "metadata": {
        "colab": {
          "base_uri": "https://localhost:8080/"
        },
        "id": "t7NLNk9xMVqD",
        "outputId": "6460e5a6-cd48-4697-e3b5-dd7da7f867a5"
      },
      "execution_count": 5,
      "outputs": [
        {
          "output_type": "stream",
          "name": "stdout",
          "text": [
            "5\n",
            "4\n",
            "3\n",
            "2\n",
            "1\n",
            "count -=1\n"
          ]
        }
      ]
    },
    {
      "cell_type": "code",
      "source": [
        "# Password checker\n",
        "password = \"\"\n",
        "while password != \"venkatesh123\":\n",
        "    password = input(\"Enter password: \")\n",
        "print(\"Access granted!\")"
      ],
      "metadata": {
        "colab": {
          "base_uri": "https://localhost:8080/"
        },
        "id": "F30TOi9ONVPb",
        "outputId": "eb056a44-e301-43b3-c41b-43a215b6e049"
      },
      "execution_count": 8,
      "outputs": [
        {
          "output_type": "stream",
          "name": "stdout",
          "text": [
            "Enter password: venkatesh123\n",
            "Access granted!\n"
          ]
        }
      ]
    },
    {
      "cell_type": "code",
      "source": [
        "# Print each student name\n",
        "students = [\"Alex\", \"Taylor\", \"Jordan\"]\n",
        "for student in students:\n",
        "    print(student)\n",
        "\n",
        "# Calculate total marks\n",
        "marks = [85, 92, 78, 90]\n",
        "total = 0\n",
        "for mark in marks:\n",
        "    total += mark\n",
        "print(\"Total:\", total)"
      ],
      "metadata": {
        "colab": {
          "base_uri": "https://localhost:8080/"
        },
        "id": "SQGokJVLK5VV",
        "outputId": "3b5c79d1-f816-470f-c38f-634b0a42ae48"
      },
      "execution_count": 3,
      "outputs": [
        {
          "output_type": "stream",
          "name": "stdout",
          "text": [
            "Alex\n",
            "Taylor\n",
            "Jordan\n",
            "Total: 345\n"
          ]
        }
      ]
    },
    {
      "cell_type": "code",
      "source": [
        "i=0\n",
        "while i <10:\n",
        "   if(i%2==0):\n",
        "      print (i)\n",
        "   i+=1"
      ],
      "metadata": {
        "colab": {
          "base_uri": "https://localhost:8080/"
        },
        "id": "SYm20oTOLm3t",
        "outputId": "48e529ed-07c4-4a4d-c9df-cb2fcbb010f3"
      },
      "execution_count": null,
      "outputs": [
        {
          "output_type": "stream",
          "name": "stdout",
          "text": [
            "0\n",
            "2\n",
            "4\n",
            "6\n",
            "8\n"
          ]
        }
      ]
    }
  ]
}