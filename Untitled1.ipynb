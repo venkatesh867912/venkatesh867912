{
  "nbformat": 4,
  "nbformat_minor": 0,
  "metadata": {
    "colab": {
      "provenance": [],
      "authorship_tag": "ABX9TyOQtsmAvtxHSA909tpg2dwq",
      "include_colab_link": true
    },
    "kernelspec": {
      "name": "python3",
      "display_name": "Python 3"
    },
    "language_info": {
      "name": "python"
    }
  },
  "cells": [
    {
      "cell_type": "markdown",
      "metadata": {
        "id": "view-in-github",
        "colab_type": "text"
      },
      "source": [
        "<a href=\"https://colab.research.google.com/github/venkatesh867912/venkatesh867912/blob/main/Untitled1.ipynb\" target=\"_parent\"><img src=\"https://colab.research.google.com/assets/colab-badge.svg\" alt=\"Open In Colab\"/></a>"
      ]
    },
    {
      "cell_type": "code",
      "execution_count": 1,
      "metadata": {
        "colab": {
          "base_uri": "https://localhost:8080/"
        },
        "id": "DM8B4jxp7khz",
        "outputId": "c1df6d2f-504c-45b9-ed97-c2a664b090c6"
      },
      "outputs": [
        {
          "output_type": "stream",
          "name": "stdout",
          "text": [
            "enter the numbers 4\n",
            "EVEN\n"
          ]
        }
      ],
      "source": [
        "A=int(input(\"enter the numbers \"))\n",
        "if(A%2==0):\n",
        "    print(\"EVEN\")\n",
        "else:\n",
        "    prin(\"odd\")"
      ]
    }
  ]
}