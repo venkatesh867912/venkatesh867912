{
  "nbformat": 4,
  "nbformat_minor": 0,
  "metadata": {
    "colab": {
      "provenance": [],
      "authorship_tag": "ABX9TyNyTQHV2ZxKDJY7Vya2MuCQ",
      "include_colab_link": true
    },
    "kernelspec": {
      "name": "python3",
      "display_name": "Python 3"
    },
    "language_info": {
      "name": "python"
    }
  },
  "cells": [
    {
      "cell_type": "markdown",
      "metadata": {
        "id": "view-in-github",
        "colab_type": "text"
      },
      "source": [
        "<a href=\"https://colab.research.google.com/github/venkatesh867912/venkatesh867912/blob/main/Untitled8.ipynb\" target=\"_parent\"><img src=\"https://colab.research.google.com/assets/colab-badge.svg\" alt=\"Open In Colab\"/></a>"
      ]
    },
    {
      "cell_type": "code",
      "execution_count": 2,
      "metadata": {
        "colab": {
          "base_uri": "https://localhost:8080/"
        },
        "id": "CyL1Q9RguQwH",
        "outputId": "875c46ea-d204-431e-e710-c167173c1d72"
      },
      "outputs": [
        {
          "output_type": "stream",
          "name": "stdout",
          "text": [
            "15\n"
          ]
        }
      ],
      "source": [
        "X=7\n",
        "Y=8\n",
        "Z=X+Y\n",
        "print (Z)"
      ]
    },
    {
      "cell_type": "code",
      "source": [
        "a=int(input(\"enter the 1st number\"))\n",
        "b=int(input(\"enter the 2nd number\"))\n",
        "o=str(input(\"enter the operator+,-,*,/\"))\n",
        "if(o==\"-\"):\n",
        "  print(\"differenceof nuns =\",a-b)\n",
        "elif(o==\"*\"):\n",
        "  print(\"product of a b is\",a*b)\n",
        "elif(o==\"+\"):\n",
        "  print(\"sum of a b is\",a+b)\n",
        "elif(o==\"/\"):\n",
        "  print(\"division of a b\",a/b)"
      ],
      "metadata": {
        "colab": {
          "base_uri": "https://localhost:8080/"
        },
        "id": "gkyx38e1vXDp",
        "outputId": "0c027ac7-7235-4098-9ee3-f3647c069c9a"
      },
      "execution_count": 3,
      "outputs": [
        {
          "name": "stdout",
          "output_type": "stream",
          "text": [
            "enter the 1st number2\n",
            "enter the 2nd number3\n",
            "enter the operator+,-,*,/6\n"
          ]
        }
      ]
    },
    {
      "cell_type": "markdown",
      "source": [
        "a=int(input(\"Enter the number\"))\n",
        "if a%2==0:\n",
        "    print(\"Even\")\n",
        "\n",
        "else:\n",
        "    print(\"odd\")"
      ],
      "metadata": {
        "id": "hY-psF3QviB3"
      }
    },
    {
      "cell_type": "code",
      "source": [
        "a=int(input(\"enter the first number\"))\n",
        "b=int(input(\"enter the second number\"))\n",
        "o=str(input(\"enter the operator+,-,*,/\"))\n",
        "if(o==\"+\"):\n",
        " print (\"summ of 2 nums=\",a+b)\n",
        "elif(o==\"-\"):\n",
        " print (\"sub of 2 nums=\",a-b)\n",
        "elif(o==\"*\"):\n",
        " print (\"mul of 2 nums=\",a*b)\n",
        "elif(o==\"/\"):\n",
        " print (\"division of 2 nums=\",a/b)\n",
        "else:\n",
        " print (\"wrong ans\")"
      ],
      "metadata": {
        "colab": {
          "base_uri": "https://localhost:8080/"
        },
        "id": "TrZ7M_PEvq6M",
        "outputId": "703fb450-f056-4f33-ba8d-ad77361b1a98"
      },
      "execution_count": 4,
      "outputs": [
        {
          "output_type": "stream",
          "name": "stdout",
          "text": [
            "enter the first number3\n",
            "enter the second number4\n",
            "enter the operator+,-,*,/8\n",
            "wrong ans\n"
          ]
        }
      ]
    },
    {
      "cell_type": "code",
      "source": [
        "a=int(input(\"enter the 1st number\"))\n",
        "b=int(input(\"enter the 2nd number\"))\n",
        "o=str(input(\"enter the operator +,-,*,/\"))\n",
        "if(o==\"+\"):\n",
        "  print(\"sum of 2 number=\",a+b)\n",
        "if(o==\"-\"):\n",
        "  print(\"difference of 2 number=\",a-b)\n",
        "if(o==\"*\"):\n",
        "  print(\"product of 2 number=\",a*b)\n",
        "if(o==\"/\"):\n",
        "  print(\"quotient of 2 number=\",a/b)"
      ],
      "metadata": {
        "colab": {
          "base_uri": "https://localhost:8080/"
        },
        "id": "shRLWnjtv2wV",
        "outputId": "7420c26a-fd99-4cd1-f90b-8876a8580911"
      },
      "execution_count": 5,
      "outputs": [
        {
          "name": "stdout",
          "output_type": "stream",
          "text": [
            "enter the 1st number2\n",
            "enter the 2nd number4\n",
            "enter the operator +,-,*,/9\n"
          ]
        }
      ]
    }
  ]
}