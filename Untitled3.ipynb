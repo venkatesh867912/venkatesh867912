{
  "nbformat": 4,
  "nbformat_minor": 0,
  "metadata": {
    "colab": {
      "provenance": [],
      "authorship_tag": "ABX9TyMM47XH12468ZFWla270Bil",
      "include_colab_link": true
    },
    "kernelspec": {
      "name": "python3",
      "display_name": "Python 3"
    },
    "language_info": {
      "name": "python"
    }
  },
  "cells": [
    {
      "cell_type": "markdown",
      "metadata": {
        "id": "view-in-github",
        "colab_type": "text"
      },
      "source": [
        "<a href=\"https://colab.research.google.com/github/venkatesh867912/venkatesh867912/blob/main/Untitled3.ipynb\" target=\"_parent\"><img src=\"https://colab.research.google.com/assets/colab-badge.svg\" alt=\"Open In Colab\"/></a>"
      ]
    },
    {
      "cell_type": "code",
      "execution_count": 5,
      "metadata": {
        "colab": {
          "base_uri": "https://localhost:8080/"
        },
        "id": "iQd1w1Tc-H4h",
        "outputId": "1926a323-61dc-4a17-b74e-5cd048ea5680"
      },
      "outputs": [
        {
          "output_type": "stream",
          "name": "stdout",
          "text": [
            "Enter your marks80\n",
            "A grade\n"
          ]
        }
      ],
      "source": [
        "A=int(input(\"Enter your marks\"))\n",
        "if(A<35):\n",
        "   print(\"fail\")\n",
        "elif(A<60):\n",
        "   print(\"c grade\")\n",
        "elif(A<80):\n",
        "   print(\"B grade\")\n",
        "elif (A<=100):\n",
        "   print (\"A grade\")\n",
        "else:\n",
        "   print(\"wrong input\")"
      ]
    }
  ]
}