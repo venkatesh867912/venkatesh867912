{
  "nbformat": 4,
  "nbformat_minor": 0,
  "metadata": {
    "colab": {
      "provenance": [],
      "authorship_tag": "ABX9TyMd4EQOh238Zyk592narHQ5",
      "include_colab_link": true
    },
    "kernelspec": {
      "name": "python3",
      "display_name": "Python 3"
    },
    "language_info": {
      "name": "python"
    }
  },
  "cells": [
    {
      "cell_type": "markdown",
      "metadata": {
        "id": "view-in-github",
        "colab_type": "text"
      },
      "source": [
        "<a href=\"https://colab.research.google.com/github/venkatesh867912/venkatesh867912/blob/main/Untitled1.ipynb\" target=\"_parent\"><img src=\"https://colab.research.google.com/assets/colab-badge.svg\" alt=\"Open In Colab\"/></a>"
      ]
    },
    {
      "cell_type": "code",
      "execution_count": 2,
      "metadata": {
        "colab": {
          "base_uri": "https://localhost:8080/"
        },
        "id": "DM8B4jxp7khz",
        "outputId": "9fb21978-761c-463f-e3ce-a71334e0cb02"
      },
      "outputs": [
        {
          "output_type": "stream",
          "name": "stdout",
          "text": [
            "Enter the age5\n",
            "not eligible to vote\n"
          ]
        }
      ],
      "source": [
        "A=int(input(\"Enter the age\"))\n",
        "if (A>=18):\n",
        "    print(\"eligible to vote\")\n",
        "else:\n",
        "    print(\"not eligible to vote\")"
      ]
    }
  ]
}